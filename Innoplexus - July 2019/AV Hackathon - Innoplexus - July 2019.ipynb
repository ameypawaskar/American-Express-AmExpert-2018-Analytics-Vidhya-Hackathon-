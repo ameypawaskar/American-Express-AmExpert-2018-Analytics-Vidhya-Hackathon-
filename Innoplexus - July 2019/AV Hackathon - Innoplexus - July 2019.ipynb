{
 "cells": [
  {
   "cell_type": "code",
   "execution_count": 67,
   "metadata": {},
   "outputs": [],
   "source": [
    "import pandas as pd \n",
    "import numpy as np \n",
    "import matplotlib.pyplot as plt \n",
    "import seaborn as sns\n",
    "import string\n",
    "import nltk\n",
    "import warnings \n",
    "warnings.filterwarnings(\"ignore\", category=DeprecationWarning)\n",
    "import re\n",
    "%matplotlib inline"
   ]
  },
  {
   "cell_type": "code",
   "execution_count": 68,
   "metadata": {},
   "outputs": [],
   "source": [
    "train  = pd.read_csv('train_F3WbcTw.csv')\n",
    "test = pd.read_csv('test_tOlRoBf.csv')"
   ]
  },
  {
   "cell_type": "code",
   "execution_count": 69,
   "metadata": {},
   "outputs": [],
   "source": [
    "# remove special characters, numbers, punctuations\n",
    "train[\"mod_text\"] = train[\"text\"].str.replace(\"[^a-zA-Z]\", \" \")\n",
    "test[\"mod_text\"] = test[\"text\"].str.replace(\"[^a-zA-Z]\", \" \")"
   ]
  },
  {
   "cell_type": "code",
   "execution_count": 70,
   "metadata": {},
   "outputs": [],
   "source": [
    "#As words has not been used properly in review, we will lemmatize these words\n",
    "w_tokenizer = nltk.tokenize.WhitespaceTokenizer()\n",
    "lemmatizer = nltk.stem.WordNetLemmatizer()\n",
    "\n",
    "def lemmatize_text(text):\n",
    "    return [lemmatizer.lemmatize(w) for w in w_tokenizer.tokenize(text)]\n",
    "\n",
    "tokenized_train_text = train.mod_text.apply(lemmatize_text)\n",
    "tokenized_test_text = test.mod_text.apply(lemmatize_text)"
   ]
  },
  {
   "cell_type": "code",
   "execution_count": 71,
   "metadata": {},
   "outputs": [],
   "source": [
    "# Stitch these tokens back together for nex processing\n",
    "for i in range(len(tokenized_train_text)):\n",
    "    tokenized_train_text[i] = ' '.join(tokenized_train_text[i])\n",
    "train[\"mod_text\"] = tokenized_train_text\n",
    "\n",
    "for i in range(len(tokenized_test_text)):\n",
    "    tokenized_test_text[i] = ' '.join(tokenized_test_text[i])\n",
    "test[\"mod_text\"] = tokenized_test_text"
   ]
  },
  {
   "cell_type": "code",
   "execution_count": 72,
   "metadata": {},
   "outputs": [],
   "source": [
    "#Removing words with less than 3 characters\n",
    "train[\"mod_text\"] = train[\"mod_text\"].apply(lambda x: ' '.join([w for w in x.split() if len(w)>3]))\n",
    "\n",
    "test[\"mod_text\"] = test[\"mod_text\"].apply(lambda x: ' '.join([w for w in x.split() if len(w)>3]))"
   ]
  },
  {
   "cell_type": "code",
   "execution_count": 73,
   "metadata": {},
   "outputs": [],
   "source": [
    "from nltk.corpus import stopwords\n",
    "stop = stopwords.words('english')\n",
    "\n",
    "train[\"mod_text\"] = train[\"mod_text\"].apply(lambda x: ' '.join([word for word in x.split() if word not in (stop)]))\n",
    "\n",
    "test[\"mod_text\"] = test[\"mod_text\"].apply(lambda x: ' '.join([word for word in x.split() if word not in (stop)]))"
   ]
  },
  {
   "cell_type": "code",
   "execution_count": 74,
   "metadata": {},
   "outputs": [],
   "source": [
    "#Bag-of-Words Features\n",
    "from sklearn.feature_extraction.text import CountVectorizer\n",
    "bow_vectorizer = CountVectorizer(max_df=0.90, min_df=2, max_features=1000, stop_words='english')\n",
    "\n",
    "# bag-of-words feature matrix\n",
    "train_bow = bow_vectorizer.fit_transform(train[\"mod_text\"],train[\"drug\"])\n",
    "\n",
    "test_bow = bow_vectorizer.fit_transform(test[\"mod_text\"],test[\"drug\"])"
   ]
  },
  {
   "cell_type": "code",
   "execution_count": 75,
   "metadata": {},
   "outputs": [],
   "source": [
    "# TF-IDF feature \n",
    "from sklearn.feature_extraction.text import TfidfVectorizer\n",
    "tfidf_vectorizer = TfidfVectorizer(max_df=0.90, min_df=2, max_features=1000, stop_words='english')\n",
    "\n",
    "# TF-IDF featurematrix\n",
    "train_tfidf = tfidf_vectorizer.fit_transform(train[\"mod_text\"],train[\"drug\"])\n",
    "\n",
    "test_tfidf = tfidf_vectorizer.fit_transform(test[\"mod_text\"],test[\"drug\"])"
   ]
  },
  {
   "cell_type": "code",
   "execution_count": 90,
   "metadata": {},
   "outputs": [
    {
     "name": "stderr",
     "output_type": "stream",
     "text": [
      "c:\\python36\\lib\\site-packages\\sklearn\\linear_model\\logistic.py:433: FutureWarning: Default solver will be changed to 'lbfgs' in 0.22. Specify a solver to silence this warning.\n",
      "  FutureWarning)\n",
      "c:\\python36\\lib\\site-packages\\sklearn\\linear_model\\logistic.py:460: FutureWarning: Default multi_class will be changed to 'auto' in 0.22. Specify the multi_class option to silence this warning.\n",
      "  \"this warning.\", FutureWarning)\n"
     ]
    },
    {
     "name": "stdout",
     "output_type": "stream",
     "text": [
      "0.42973176294224374\n",
      "[1 0 1 ... 1 0 1]\n"
     ]
    }
   ],
   "source": [
    "#Building model using Bag-of-Words features\n",
    "from sklearn.model_selection import train_test_split\n",
    "from sklearn.metrics import f1_score\n",
    "    \n",
    "# splitting data into training and validation set\n",
    "xtrain_bow, xvalid_bow, ytrain, yvalid = train_test_split(train_bow, train['sentiment'], random_state=42, test_size=0.3)\n",
    "\n",
    "from sklearn.naive_bayes import BernoulliNB\n",
    "\n",
    "model = BernoulliNB()\n",
    "model.fit(xtrain_bow, ytrain) # training the model\n",
    "\n",
    "prediction = model.predict(xvalid_bow) # predicting on the validation set\n",
    "#prediction_int = prediction[:,1] >= 0.3 # if prediction is greater than or equal to 0.3 than 1 else 0\n",
    "prediction_int = prediction_int.astype(np.int)\n",
    "print(f1_score(yvalid, prediction, average='macro')) # calculating f1 score\n",
    "\n",
    "pred_test = model.predict(test_bow)\n",
    "submission=pd.read_csv(\"sample_submission_i5xnIZD.csv\")\n",
    "submission['sentiment']=pred_test\n",
    "pd.DataFrame(submission, columns=['unique_hash','sentiment']).to_csv('BernoulliNB.csv')"
   ]
  },
  {
   "cell_type": "code",
   "execution_count": 96,
   "metadata": {},
   "outputs": [
    {
     "name": "stdout",
     "output_type": "stream",
     "text": [
      "0.3364451099830968\n"
     ]
    }
   ],
   "source": [
    "#Building model using # TF-IDF feature \n",
    "from sklearn.model_selection import train_test_split\n",
    "from sklearn.metrics import f1_score\n",
    "    \n",
    "# splitting data into training and validation set\n",
    "xtrain_tfidf, xvalid_tfidf, ytrain, yvalid = train_test_split(train_tfidf, train['sentiment'], random_state=42, test_size=0.3)\n",
    "\n",
    "from sklearn.naive_bayes import BernoulliNB\n",
    "\n",
    "model = BernoulliNB()\n",
    "model.fit(xtrain_tfidf, ytrain) # training the model\n",
    "\n",
    "prediction = model.predict(xvalid_tfidf) # predicting on the validation set\n",
    "#prediction_int = prediction[:,1] >= 0.3 # if prediction is greater than or equal to 0.3 than 1 else 0\n",
    "prediction_int = prediction_int.astype(np.int)\n",
    "print(f1_score(yvalid, prediction, average='macro')) # calculating f1 score\n",
    "\n",
    "pred_test = model.predict(test_bow)\n",
    "submission=pd.read_csv(\"sample_submission_i5xnIZD.csv\")\n",
    "submission['sentiment']=pred_test\n",
    "pd.DataFrame(submission, columns=['unique_hash','sentiment']).to_csv('BernoulliNB_tfidf.csv')"
   ]
  },
  {
   "cell_type": "code",
   "execution_count": null,
   "metadata": {},
   "outputs": [],
   "source": []
  },
  {
   "cell_type": "code",
   "execution_count": null,
   "metadata": {},
   "outputs": [],
   "source": []
  },
  {
   "cell_type": "code",
   "execution_count": null,
   "metadata": {},
   "outputs": [],
   "source": []
  },
  {
   "cell_type": "code",
   "execution_count": null,
   "metadata": {},
   "outputs": [],
   "source": []
  }
 ],
 "metadata": {
  "kernelspec": {
   "display_name": "Python 3",
   "language": "python",
   "name": "python3"
  },
  "language_info": {
   "codemirror_mode": {
    "name": "ipython",
    "version": 3
   },
   "file_extension": ".py",
   "mimetype": "text/x-python",
   "name": "python",
   "nbconvert_exporter": "python",
   "pygments_lexer": "ipython3",
   "version": "3.6.6"
  }
 },
 "nbformat": 4,
 "nbformat_minor": 2
}
