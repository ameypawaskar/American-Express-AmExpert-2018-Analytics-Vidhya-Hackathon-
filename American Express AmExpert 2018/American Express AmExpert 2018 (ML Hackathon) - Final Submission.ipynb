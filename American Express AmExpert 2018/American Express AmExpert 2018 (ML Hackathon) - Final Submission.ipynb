{
 "cells": [
  {
   "cell_type": "raw",
   "metadata": {},
   "source": [
    "Loading Required Packages in this Classification Program"
   ]
  },
  {
   "cell_type": "code",
   "execution_count": 1,
   "metadata": {},
   "outputs": [],
   "source": [
    "import pandas as pd\n",
    "import numpy as np                     # For mathematical calculations\n",
    "import seaborn as sns                  # For data visualization\n",
    "import matplotlib.pyplot as plt        # For plotting graphs\n",
    "%matplotlib inline\n",
    "import warnings                        # To ignore any warnings\n",
    "warnings.filterwarnings(\"ignore\")"
   ]
  },
  {
   "cell_type": "raw",
   "metadata": {},
   "source": [
    "Reading Data from csv file to dataframe"
   ]
  },
  {
   "cell_type": "code",
   "execution_count": 2,
   "metadata": {},
   "outputs": [],
   "source": [
    "train=pd.read_csv(\"American Express AmExpert 2018/train.csv\")\n",
    "test=pd.read_csv(\"American Express AmExpert 2018/test.csv\")"
   ]
  },
  {
   "cell_type": "markdown",
   "metadata": {},
   "source": [
    "We will make copy of train and test data we would not lose the original datasets"
   ]
  },
  {
   "cell_type": "code",
   "execution_count": 3,
   "metadata": {},
   "outputs": [],
   "source": [
    "train_original=train.copy()\n",
    "test_original=test.copy()"
   ]
  },
  {
   "cell_type": "markdown",
   "metadata": {},
   "source": [
    "We will check which columns are present in train and test dataset"
   ]
  },
  {
   "cell_type": "code",
   "execution_count": 4,
   "metadata": {},
   "outputs": [
    {
     "name": "stdout",
     "output_type": "stream",
     "text": [
      "Index(['session_id', 'DateTime', 'user_id', 'product', 'campaign_id',\n",
      "       'webpage_id', 'product_category_1', 'product_category_2',\n",
      "       'user_group_id', 'gender', 'age_level', 'user_depth',\n",
      "       'city_development_index', 'var_1', 'is_click'],\n",
      "      dtype='object')\n",
      "(463291, 15)\n"
     ]
    }
   ],
   "source": [
    "print(train.columns)\n",
    "print(train.shape)"
   ]
  },
  {
   "cell_type": "code",
   "execution_count": 5,
   "metadata": {},
   "outputs": [
    {
     "name": "stdout",
     "output_type": "stream",
     "text": [
      "Index(['session_id', 'DateTime', 'user_id', 'product', 'campaign_id',\n",
      "       'webpage_id', 'product_category_1', 'product_category_2',\n",
      "       'user_group_id', 'gender', 'age_level', 'user_depth',\n",
      "       'city_development_index', 'var_1'],\n",
      "      dtype='object')\n",
      "(128858, 14)\n"
     ]
    }
   ],
   "source": [
    "print(test.columns)\n",
    "print(test.shape)"
   ]
  },
  {
   "cell_type": "markdown",
   "metadata": {},
   "source": [
    "Train data have 14 independent variables and 1 target variable, i.e. 'is_click' with total 463291 rows wheras 'is_click' is absent in Test data with 128858 rows"
   ]
  },
  {
   "cell_type": "code",
   "execution_count": 6,
   "metadata": {},
   "outputs": [
    {
     "name": "stdout",
     "output_type": "stream",
     "text": [
      "session_id                  int64\n",
      "DateTime                   object\n",
      "user_id                     int64\n",
      "product                    object\n",
      "campaign_id                 int64\n",
      "webpage_id                  int64\n",
      "product_category_1          int64\n",
      "product_category_2        float64\n",
      "user_group_id             float64\n",
      "gender                     object\n",
      "age_level                 float64\n",
      "user_depth                float64\n",
      "city_development_index    float64\n",
      "var_1                       int64\n",
      "is_click                    int64\n",
      "dtype: object\n"
     ]
    }
   ],
   "source": [
    "# Print data types for each variable\n",
    "print(train.dtypes)"
   ]
  },
  {
   "cell_type": "code",
   "execution_count": 7,
   "metadata": {},
   "outputs": [
    {
     "name": "stdout",
     "output_type": "stream",
     "text": [
      "   session_id          DateTime  user_id product  campaign_id  webpage_id  \\\n",
      "0      140690  2017-07-02 00:00   858557       C       359520       13787   \n",
      "1      333291  2017-07-02 00:00   243253       C       105960       11085   \n",
      "2      129781  2017-07-02 00:00   243253       C       359520       13787   \n",
      "3      464848  2017-07-02 00:00  1097446       I       359520       13787   \n",
      "4       90569  2017-07-02 00:01   663656       C       405490       60305   \n",
      "\n",
      "   product_category_1  product_category_2  user_group_id  gender  age_level  \\\n",
      "0                   4                 NaN           10.0  Female        4.0   \n",
      "1                   5                 NaN            8.0  Female        2.0   \n",
      "2                   4                 NaN            8.0  Female        2.0   \n",
      "3                   3                 NaN            3.0    Male        3.0   \n",
      "4                   3                 NaN            2.0    Male        2.0   \n",
      "\n",
      "   user_depth  city_development_index  var_1  is_click  \n",
      "0         3.0                     3.0      0         0  \n",
      "1         2.0                     NaN      0         0  \n",
      "2         2.0                     NaN      0         0  \n",
      "3         3.0                     2.0      1         0  \n",
      "4         3.0                     2.0      1         0  \n"
     ]
    }
   ],
   "source": [
    "#Data Sample of train data\n",
    "print(train.head())"
   ]
  },
  {
   "cell_type": "raw",
   "metadata": {},
   "source": [
    "Univariate Analysis   "
   ]
  },
  {
   "cell_type": "code",
   "execution_count": 8,
   "metadata": {},
   "outputs": [
    {
     "data": {
      "text/plain": [
       "0    431960\n",
       "1     31331\n",
       "Name: is_click, dtype: int64"
      ]
     },
     "execution_count": 8,
     "metadata": {},
     "output_type": "execute_result"
    }
   ],
   "source": [
    "#Frequency table of a variable will give us the count of each category in that variable.\n",
    "train['is_click'].value_counts()"
   ]
  },
  {
   "cell_type": "code",
   "execution_count": 9,
   "metadata": {},
   "outputs": [
    {
     "data": {
      "text/plain": [
       "0    0.932373\n",
       "1    0.067627\n",
       "Name: is_click, dtype: float64"
      ]
     },
     "execution_count": 9,
     "metadata": {},
     "output_type": "execute_result"
    }
   ],
   "source": [
    "# Normalize can be set to True to print proportions instead of number \n",
    "train['is_click'].value_counts(normalize=True)"
   ]
  },
  {
   "cell_type": "markdown",
   "metadata": {},
   "source": [
    "Only 6.76% is_click are 1"
   ]
  },
  {
   "cell_type": "code",
   "execution_count": 10,
   "metadata": {},
   "outputs": [
    {
     "data": {
      "image/png": "[encoded data removed]",
      "text/plain": [
       "<Figure size 648x432 with 2 Axes>"
      ]
     },
     "metadata": {},
     "output_type": "display_data"
    }
   ],
   "source": [
    "#Correlation between all the numerical variables. \n",
    "#The variables with darker color means their correlation is more.\n",
    "matrix = train.corr()\n",
    "f, ax = plt.subplots(figsize=(9, 6))\n",
    "sns.heatmap(matrix, vmax=.8, square=True, cmap=\"BuPu\");"
   ]
  },
  {
   "cell_type": "raw",
   "metadata": {},
   "source": [
    "We see that the variables are very loosely correlated to is_click. We will need to process data."
   ]
  },
  {
   "cell_type": "raw",
   "metadata": {},
   "source": [
    "# Missing Value and Outlier Treatment\n",
    "Missing value imputation\n",
    "Let’s list out feature-wise count of missing values"
   ]
  },
  {
   "cell_type": "code",
   "execution_count": 11,
   "metadata": {},
   "outputs": [
    {
     "data": {
      "text/plain": [
       "session_id                     0\n",
       "DateTime                       0\n",
       "user_id                        0\n",
       "product                        0\n",
       "campaign_id                    0\n",
       "webpage_id                     0\n",
       "product_category_1             0\n",
       "product_category_2        365854\n",
       "user_group_id              18243\n",
       "gender                     18243\n",
       "age_level                  18243\n",
       "user_depth                 18243\n",
       "city_development_index    125129\n",
       "var_1                          0\n",
       "is_click                       0\n",
       "dtype: int64"
      ]
     },
     "execution_count": 11,
     "metadata": {},
     "output_type": "execute_result"
    }
   ],
   "source": [
    "train.isnull().sum()"
   ]
  },
  {
   "cell_type": "raw",
   "metadata": {},
   "source": [
    "There are missing values in product_category_2, user_group_id, gender, age_level, user_depth, city_development_index features.\n",
    "\n",
    "We will treat the missing values in all the features one by one.\n",
    "\n",
    "We can consider these methods to fill the missing values:\n",
    "\n",
    "For numerical variables: imputation using mean or median\n",
    "For categorical variables: imputation using mode\n",
    "\n",
    "We will drop 'product_category_2' column as almost 80% of data is missing\n",
    "\n",
    "There are very less missing values in user_group_id, gender, age_level, user_depth, city_development_index features so we can fill them using the mode of the features."
   ]
  },
  {
   "cell_type": "code",
   "execution_count": 12,
   "metadata": {},
   "outputs": [
    {
     "name": "stdout",
     "output_type": "stream",
     "text": [
      "3.0     140317\n",
      "2.0     137278\n",
      "4.0      50080\n",
      "1.0      41946\n",
      "5.0      21989\n",
      "9.0      20264\n",
      "10.0     13779\n",
      "11.0      8839\n",
      "8.0       6223\n",
      "6.0       1724\n",
      "7.0       1421\n",
      "12.0      1035\n",
      "0.0        153\n",
      "Name: user_group_id, dtype: int64\n",
      "Male      393454\n",
      "Female     51594\n",
      "Name: gender, dtype: int64\n",
      "3.0    160581\n",
      "2.0    143501\n",
      "4.0     63859\n",
      "1.0     43367\n",
      "5.0     30828\n",
      "6.0      2759\n",
      "0.0       153\n",
      "Name: age_level, dtype: int64\n",
      "3.0    402798\n",
      "2.0     30389\n",
      "1.0     11861\n",
      "Name: user_depth, dtype: int64\n",
      "2.0    147643\n",
      "3.0     88709\n",
      "4.0     67166\n",
      "1.0     34644\n",
      "Name: city_development_index, dtype: int64\n",
      "658554     255\n",
      "297960     225\n",
      "983136     187\n",
      "422201     157\n",
      "929999     143\n",
      "18434      141\n",
      "378888     138\n",
      "1045409    136\n",
      "577452     135\n",
      "678048     130\n",
      "697407     130\n",
      "1045598    129\n",
      "643342     127\n",
      "580576     124\n",
      "245794     123\n",
      "107073     115\n",
      "357044     113\n",
      "420305     112\n",
      "890857     112\n",
      "1113267    112\n",
      "757785     109\n",
      "536381     108\n",
      "390501     108\n",
      "452547     108\n",
      "773884     107\n",
      "1080890    104\n",
      "830188     104\n",
      "1052794    101\n",
      "172283     101\n",
      "474804     100\n",
      "          ... \n",
      "432735       1\n",
      "697598       1\n",
      "8492         1\n",
      "1076710      1\n",
      "502393       1\n",
      "1075841      1\n",
      "618914       1\n",
      "563615       1\n",
      "557468       1\n",
      "45466        1\n",
      "311572       1\n",
      "827672       1\n",
      "543333       1\n",
      "368952       1\n",
      "375099       1\n",
      "360764       1\n",
      "414022       1\n",
      "469353       1\n",
      "508276       1\n",
      "510325       1\n",
      "69898        1\n",
      "549248       1\n",
      "1075585      1\n",
      "62620        1\n",
      "396          1\n",
      "530831       1\n",
      "586130       1\n",
      "63891        1\n",
      "1104279      1\n",
      "528386       1\n",
      "Name: user_id, Length: 150347, dtype: int64\n",
      "359520    108155\n",
      "405490     95973\n",
      "360936     51888\n",
      "118601     35531\n",
      "98970      35065\n",
      "414149     29314\n",
      "404347     28826\n",
      "82320      27849\n",
      "105960     25781\n",
      "396664     24909\n",
      "Name: campaign_id, dtype: int64\n",
      "13787    160043\n",
      "60305     95973\n",
      "28529     35531\n",
      "6970      35065\n",
      "45962     29314\n",
      "53587     28826\n",
      "1734      27849\n",
      "11085     25781\n",
      "51181     24909\n",
      "Name: webpage_id, dtype: int64\n"
     ]
    }
   ],
   "source": [
    "#look at the value count of the NA feature variables.\n",
    "print(train['user_group_id'].value_counts())\n",
    "print(train['gender'].value_counts())\n",
    "print(train['age_level'].value_counts())\n",
    "print(train['user_depth'].value_counts())\n",
    "print(train['city_development_index'].value_counts())\n",
    "print(train['user_id'].value_counts())\n",
    "print(train['campaign_id'].value_counts())\n",
    "print(train['webpage_id'].value_counts())\n"
   ]
  },
  {
   "cell_type": "code",
   "execution_count": 13,
   "metadata": {},
   "outputs": [],
   "source": [
    "#we will replace the missing values in this variables using the mode of this variables\n",
    "train = train.drop(columns=['product_category_2','user_id'])\n",
    "train['user_group_id'].fillna(train['user_group_id'].mode()[0], inplace=True)\n",
    "train['gender'].fillna(train['gender'].mode()[0], inplace=True)\n",
    "train['age_level'].fillna(train['age_level'].mode()[0], inplace=True)\n",
    "train['user_depth'].fillna(train['user_depth'].mode()[0], inplace=True)\n",
    "train['city_development_index'].fillna(train['city_development_index'].mode()[0], inplace=True)"
   ]
  },
  {
   "cell_type": "code",
   "execution_count": 14,
   "metadata": {},
   "outputs": [
    {
     "data": {
      "text/plain": [
       "session_id                0\n",
       "DateTime                  0\n",
       "product                   0\n",
       "campaign_id               0\n",
       "webpage_id                0\n",
       "product_category_1        0\n",
       "user_group_id             0\n",
       "gender                    0\n",
       "age_level                 0\n",
       "user_depth                0\n",
       "city_development_index    0\n",
       "var_1                     0\n",
       "is_click                  0\n",
       "dtype: int64"
      ]
     },
     "execution_count": 14,
     "metadata": {},
     "output_type": "execute_result"
    }
   ],
   "source": [
    "#Now lets check whether all the missing values are filled in the train dataset.\n",
    "train.isnull().sum()"
   ]
  },
  {
   "cell_type": "code",
   "execution_count": 15,
   "metadata": {},
   "outputs": [],
   "source": [
    "#We can see that all the missing values have been filled in the test dataset.\n",
    "#Let’s fill all the missing values in the test dataset too with the same approach.\n",
    "test = test.drop(columns=['product_category_2','user_id'])\n",
    "test['user_group_id'].fillna(test['user_group_id'].mode()[0], inplace=True)\n",
    "test['gender'].fillna(test['gender'].mode()[0], inplace=True)\n",
    "test['age_level'].fillna(test['age_level'].mode()[0], inplace=True)\n",
    "test['user_depth'].fillna(test['user_depth'].mode()[0], inplace=True)\n",
    "test['city_development_index'].fillna(test['city_development_index'].mode()[0], inplace=True)"
   ]
  },
  {
   "cell_type": "code",
   "execution_count": 16,
   "metadata": {},
   "outputs": [
    {
     "data": {
      "text/plain": [
       "session_id                0\n",
       "DateTime                  0\n",
       "product                   0\n",
       "campaign_id               0\n",
       "webpage_id                0\n",
       "product_category_1        0\n",
       "user_group_id             0\n",
       "gender                    0\n",
       "age_level                 0\n",
       "user_depth                0\n",
       "city_development_index    0\n",
       "var_1                     0\n",
       "dtype: int64"
      ]
     },
     "execution_count": 16,
     "metadata": {},
     "output_type": "execute_result"
    }
   ],
   "source": [
    "#Now lets check whether all the missing values are filled in the test dataset.\n",
    "test.isnull().sum()"
   ]
  },
  {
   "cell_type": "code",
   "execution_count": 17,
   "metadata": {},
   "outputs": [],
   "source": [
    "#We will transform DateTime Column, First Object to String \n",
    "train['DateTime'] = train['DateTime'].astype('str')\n",
    "train['DateTime'] = train['DateTime'].astype(str).str[:-6].astype(np.str)\n",
    "\n",
    "test['DateTime'] = test['DateTime'].astype('str')\n",
    "test['DateTime'] = test['DateTime'].astype(str).str[:-6].astype(np.str)"
   ]
  },
  {
   "cell_type": "raw",
   "metadata": {},
   "source": [
    "We will convert categorical Object data to labels using Label Encoder"
   ]
  },
  {
   "cell_type": "code",
   "execution_count": 18,
   "metadata": {},
   "outputs": [],
   "source": [
    "from sklearn.preprocessing import LabelEncoder"
   ]
  },
  {
   "cell_type": "code",
   "execution_count": 19,
   "metadata": {},
   "outputs": [],
   "source": [
    "lbl_enc = LabelEncoder()\n",
    "train['DateTime'] = lbl_enc.fit_transform(train['DateTime'])\n",
    "train['product'] = lbl_enc.fit_transform(train['product'])\n",
    "train['gender'] = lbl_enc.fit_transform(train['gender']) #0 for Female and 1 for Male\n",
    "train['campaign_id'] = lbl_enc.fit_transform(train['campaign_id'])\n",
    "train['webpage_id'] = lbl_enc.fit_transform(train['webpage_id'])"
   ]
  },
  {
   "cell_type": "code",
   "execution_count": 20,
   "metadata": {},
   "outputs": [],
   "source": [
    "#Same for test Data\n",
    "test['DateTime'] = lbl_enc.fit_transform(test['DateTime'])\n",
    "test['product'] = lbl_enc.fit_transform(test['product'])\n",
    "test['gender'] = lbl_enc.fit_transform(test['gender']) #0 for Female and 1 for Male\n",
    "test['campaign_id'] = lbl_enc.fit_transform(test['campaign_id'])\n",
    "test['webpage_id'] = lbl_enc.fit_transform(test['webpage_id'])"
   ]
  },
  {
   "cell_type": "code",
   "execution_count": 21,
   "metadata": {},
   "outputs": [
    {
     "name": "stdout",
     "output_type": "stream",
     "text": [
      "   session_id  DateTime  product  campaign_id  webpage_id  product_category_1  \\\n",
      "0      140690         0        2            4           3                   4   \n",
      "1      333291         0        2            2           2                   5   \n",
      "2      129781         0        2            4           3                   4   \n",
      "3      464848         0        8            4           3                   3   \n",
      "4       90569         0        2            8           8                   3   \n",
      "\n",
      "   user_group_id  gender  age_level  user_depth  city_development_index  \\\n",
      "0           10.0       0        4.0         3.0                     3.0   \n",
      "1            8.0       0        2.0         2.0                     2.0   \n",
      "2            8.0       0        2.0         2.0                     2.0   \n",
      "3            3.0       1        3.0         3.0                     2.0   \n",
      "4            2.0       1        2.0         3.0                     2.0   \n",
      "\n",
      "   var_1  is_click  \n",
      "0      0         0  \n",
      "1      0         0  \n",
      "2      0         0  \n",
      "3      1         0  \n",
      "4      1         0  \n"
     ]
    }
   ],
   "source": [
    "print(train.head())"
   ]
  },
  {
   "cell_type": "markdown",
   "metadata": {},
   "source": [
    "Let’s build a logistic regression model and make predictions for the test dataset."
   ]
  },
  {
   "cell_type": "code",
   "execution_count": 22,
   "metadata": {},
   "outputs": [],
   "source": [
    "#Sklearn requires the target variable in a separate dataset. \n",
    "#We will drop our target variable from the train dataset and save it in another dataset.\n",
    "X = train.drop(columns=['is_click','session_id'])\n",
    "y = train['is_click']\n",
    "test = test.drop(columns=['session_id'])"
   ]
  },
  {
   "cell_type": "code",
   "execution_count": 27,
   "metadata": {},
   "outputs": [],
   "source": [
    "#We will use the train_test_split function from sklearn to divide our train dataset. So, first let us import train_test_split.\n",
    "from sklearn.model_selection import train_test_split\n",
    "from sklearn.metrics import accuracy_score"
   ]
  },
  {
   "cell_type": "code",
   "execution_count": 28,
   "metadata": {},
   "outputs": [],
   "source": [
    "x_train, x_cv, y_train, y_cv = train_test_split(X,y, test_size =0.3)"
   ]
  },
  {
   "cell_type": "markdown",
   "metadata": {},
   "source": [
    "The dataset has been divided into training and validation part"
   ]
  },
  {
   "cell_type": "code",
   "execution_count": 29,
   "metadata": {},
   "outputs": [],
   "source": [
    "#Let’s import StratifiedKFold from sklearn and fit the model.\n",
    "from sklearn.model_selection import StratifiedKFold"
   ]
  },
  {
   "cell_type": "code",
   "execution_count": 30,
   "metadata": {},
   "outputs": [
    {
     "name": "stdout",
     "output_type": "stream",
     "text": [
      "\n",
      "1 of kfold 5\n",
      "accuracy_score 0.9292135680290096\n",
      "\n",
      "2 of kfold 5\n",
      "accuracy_score 0.9294610287293056\n",
      "\n",
      "3 of kfold 5\n",
      "accuracy_score 0.9297200457596754\n",
      "\n",
      "4 of kfold 5\n",
      "accuracy_score 0.9296121219970213\n",
      "\n",
      "5 of kfold 5\n",
      "accuracy_score 0.9290401260549548\n"
     ]
    }
   ],
   "source": [
    "from sklearn import tree\n",
    "\n",
    "#Let’s fit the decision tree model with 5 folds of cross validation.\n",
    "\n",
    "i=1\n",
    "kf = StratifiedKFold(n_splits=5,random_state=1,shuffle=True)\n",
    "for train_index,test_index in kf.split(X,y):\n",
    "     print('\\n{} of kfold {}'.format(i,kf.n_splits))\n",
    "     xtr,xvl = X.loc[train_index],X.loc[test_index]\n",
    "     ytr,yvl = y[train_index],y[test_index]\n",
    "    \n",
    "     model = tree.DecisionTreeClassifier(random_state=1)\n",
    "     model.fit(xtr, ytr)\n",
    "     pred_test = model.predict(xvl)\n",
    "     score = accuracy_score(yvl,pred_test)\n",
    "     print('accuracy_score',score)\n",
    "     i+=1\n",
    "pred_test = model.predict(test)"
   ]
  },
  {
   "cell_type": "code",
   "execution_count": 32,
   "metadata": {},
   "outputs": [],
   "source": [
    "submission=pd.read_csv(\"American Express AmExpert 2018/sample_submission_2s8l9nF.csv\")\n",
    "\n",
    "submission['session_id']=test_original['session_id']\n",
    "submission['is_click']=pred_test\n",
    "\n",
    "#Lets convert the submission to .csv format and make submission to check the accuracy on the leaderboard.\n",
    "pd.DataFrame(submission, columns=['session_id','is_click']).to_csv('American Express AmExpert 2018/Final 18.11.18.csv',index=False)"
   ]
  }
 ],
 "metadata": {
  "kernelspec": {
   "display_name": "Python 3",
   "language": "python",
   "name": "python3"
  },
  "language_info": {
   "codemirror_mode": {
    "name": "ipython",
    "version": 3
   },
   "file_extension": ".py",
   "mimetype": "text/x-python",
   "name": "python",
   "nbconvert_exporter": "python",
   "pygments_lexer": "ipython3",
   "version": "3.6.6"
  }
 },
 "nbformat": 4,
 "nbformat_minor": 2
}
